{
  "nbformat": 4,
  "nbformat_minor": 0,
  "metadata": {
    "colab": {
      "provenance": [],
      "gpuType": "T4",
      "authorship_tag": "ABX9TyMFQr3Q3OrOE+lMG/hqxFhE",
      "include_colab_link": true
    },
    "kernelspec": {
      "name": "python3",
      "display_name": "Python 3"
    },
    "language_info": {
      "name": "python"
    },
    "accelerator": "GPU"
  },
  "cells": [
    {
      "cell_type": "markdown",
      "metadata": {
        "id": "view-in-github",
        "colab_type": "text"
      },
      "source": [
        "<a href=\"https://colab.research.google.com/github/SannihithRicky/LMS/blob/main/LMS.ipynb\" target=\"_parent\"><img src=\"https://colab.research.google.com/assets/colab-badge.svg\" alt=\"Open In Colab\"/></a>"
      ]
    },
    {
      "cell_type": "code",
      "execution_count": null,
      "metadata": {
        "colab": {
          "base_uri": "https://localhost:8080/"
        },
        "id": "M2dk_41dc5rM",
        "outputId": "2ba1b5ee-74f9-45c7-c1b4-3e8832d4de68"
      },
      "outputs": [
        {
          "output_type": "stream",
          "name": "stdout",
          "text": [
            "integer_variable = 10, Type: <class 'int'>\n",
            "float_variable = 3.14, Type: <class 'float'>\n",
            "string_variable = 'Hello, world!', Type: <class 'str'>\n",
            "boolean_variable = True, Type: <class 'bool'>\n"
          ]
        }
      ],
      "source": [
        "integer_variable = 10\n",
        "float_variable = 3.14\n",
        "string_variable = \"Hello, world!\"\n",
        "boolean_variable = True\n",
        "\n",
        "print(f\"{integer_variable = }, Type: {type(integer_variable)}\")\n",
        "print(f\"{float_variable = }, Type: {type(float_variable)}\")\n",
        "print(f\"{string_variable = }, Type: {type(string_variable)}\")\n",
        "print(f\"{boolean_variable = }, Type: {type(boolean_variable)}\")"
      ]
    },
    {
      "cell_type": "code",
      "source": [
        "my_list = [\"apple\", \"banana\", \"cherry\", \"date\", \"elderberry\"]\n",
        "print(my_list[0])\n",
        "print(my_list[2])\n",
        "print(my_list[-1])\n",
        "print()\n",
        "my_tuple = (\"apple\", \"banana\", \"cherry\", \"pine-apple\", \"Jack fruit\")\n",
        "print(my_tuple[0])\n",
        "print(my_tuple[2])\n",
        "print(my_tuple[-1])\n",
        "print()\n",
        "my_dict = {\"name\": \"Ricky\", \"age\": 20, \"city\": \"Hyderabad\", \"college\": \"Malla Reddy University\", \"course\": \"BTech\"}\n",
        "print(my_dict[\"name\"])\n",
        "print(my_dict[\"age\"])\n",
        "print(my_dict[\"city\"])\n",
        "print(my_dict[\"college\"])\n",
        "print(my_dict[\"course\"])\n"
      ],
      "metadata": {
        "colab": {
          "base_uri": "https://localhost:8080/"
        },
        "id": "NEp7rW-sdEhg",
        "outputId": "f5aff1ff-409c-44f8-d35c-148b2586c449"
      },
      "execution_count": null,
      "outputs": [
        {
          "output_type": "stream",
          "name": "stdout",
          "text": [
            "apple\n",
            "cherry\n",
            "elderberry\n",
            "\n",
            "apple\n",
            "cherry\n",
            "Jack fruit\n",
            "\n",
            "Ricky\n",
            "20\n",
            "Hyderabad\n",
            "Malla Reddy University\n",
            "BTech\n"
          ]
        }
      ]
    },
    {
      "cell_type": "code",
      "source": [
        "subject1 = float(input(\"Enter marks for subject 1: \"))\n",
        "subject2 = float(input(\"Enter marks for subject 2: \"))\n",
        "subject3 = float(input(\"Enter marks for subject 3: \"))\n",
        "\n",
        "average = (subject1 + subject2 + subject3) / 3\n",
        "\n",
        "if average >= 90:\n",
        "    grade = \"A\"\n",
        "elif average >= 80:\n",
        "    grade = \"B\"\n",
        "elif average >= 70:\n",
        "    grade = \"C\"\n",
        "else:\n",
        "    grade = \"Fail\"\n",
        "\n",
        "print(f\"Grade: {grade}\")"
      ],
      "metadata": {
        "colab": {
          "base_uri": "https://localhost:8080/"
        },
        "id": "K7wInz0ydIEj",
        "outputId": "7e02ab18-9325-4d8d-ab26-132fb9ca185e"
      },
      "execution_count": null,
      "outputs": [
        {
          "output_type": "stream",
          "name": "stdout",
          "text": [
            "Enter marks for subject 1: 35\n",
            "Enter marks for subject 2: 90\n",
            "Enter marks for subject 3: 0\n",
            "Grade: Fail\n"
          ]
        }
      ]
    },
    {
      "cell_type": "code",
      "source": [
        "def sum_of_even_numbers(n):\n",
        "  sum = 0\n",
        "  for i in range(1, n + 1):\n",
        "    if i % 2 == 0:\n",
        "      sum += i\n",
        "  return sum\n",
        "\n",
        "n = int(input(\"Enter n value: \"))\n",
        "print(f\"Sum of Even Numbers from 1 to {n}: {sum_of_even_numbers(n)}\")"
      ],
      "metadata": {
        "colab": {
          "base_uri": "https://localhost:8080/"
        },
        "id": "GwJ83Plvday3",
        "outputId": "f3926ea0-b081-46d9-98e5-0b6eb2ff47c2"
      },
      "execution_count": null,
      "outputs": [
        {
          "output_type": "stream",
          "name": "stdout",
          "text": [
            "Enter n value: 21\n",
            "Sum of Even Numbers from 1 to 21: 110\n"
          ]
        }
      ]
    },
    {
      "cell_type": "code",
      "source": [
        "def word_frequency(corpus):\n",
        "    words = corpus.lower().split()\n",
        "    word_counts = {}\n",
        "    for word in words:\n",
        "        word_counts[word] = word_counts.get(word, 0) + 1\n",
        "    return word_counts\n",
        "\n",
        "\n",
        "def print_word_counts(word_counts):\n",
        "    for word, count in word_counts.items():\n",
        "        print(f\"{word}: {count}\")\n",
        "\n",
        "\n",
        "corpus = input(\"Enter Corpus: \")\n",
        "frequencies = word_frequency(corpus)\n",
        "print_word_counts(frequencies)"
      ],
      "metadata": {
        "colab": {
          "base_uri": "https://localhost:8080/"
        },
        "id": "Mmn21PA8dhw9",
        "outputId": "05697160-738b-4417-e1ac-1d1094c08aca"
      },
      "execution_count": null,
      "outputs": [
        {
          "output_type": "stream",
          "name": "stdout",
          "text": [
            "Enter Corpus: The most beautiful thing my father gave me was to train my taste\n",
            "the: 1\n",
            "most: 1\n",
            "beautiful: 1\n",
            "thing: 1\n",
            "my: 2\n",
            "father: 1\n",
            "gave: 1\n",
            "me: 1\n",
            "was: 1\n",
            "to: 1\n",
            "train: 1\n",
            "taste: 1\n"
          ]
        }
      ]
    },
    {
      "cell_type": "code",
      "source": [
        "import nltk\n",
        "import spacy\n",
        "nltk.download('punkt')\n",
        "nltk.download('stopwords')\n",
        "nlp = spacy.load(\"en_core_web_sm\")\n",
        "\n",
        "def preprocess_text(text):\n",
        "    doc = nlp(text.lower())\n",
        "    from nltk.corpus import stopwords\n",
        "    stop_words = set(stopwords.words('english'))\n",
        "    filtered_words = [token.text for token in doc if token.text not in stop_words]\n",
        "    return \" \".join(filtered_words)\n",
        "\n",
        "text = input(\"Enter Corpus:\")\n",
        "processed_text = preprocess_text(text)\n",
        "print(processed_text)"
      ],
      "metadata": {
        "colab": {
          "base_uri": "https://localhost:8080/"
        },
        "id": "MYF9zWWDdoND",
        "outputId": "b4124c31-4b2a-4bd0-e545-e9fd867bbd90"
      },
      "execution_count": null,
      "outputs": [
        {
          "output_type": "stream",
          "name": "stderr",
          "text": [
            "[nltk_data] Downloading package punkt to /root/nltk_data...\n",
            "[nltk_data]   Unzipping tokenizers/punkt.zip.\n",
            "[nltk_data] Downloading package stopwords to /root/nltk_data...\n",
            "[nltk_data]   Unzipping corpora/stopwords.zip.\n"
          ]
        },
        {
          "output_type": "stream",
          "name": "stdout",
          "text": [
            "Enter Corpus:You want to give me trials and then you want me to count it all joy?\n",
            "want give trials want count joy ?\n"
          ]
        }
      ]
    },
    {
      "cell_type": "code",
      "source": [
        "!pip install docx2txt\n",
        "!pip install gensim"
      ],
      "metadata": {
        "colab": {
          "base_uri": "https://localhost:8080/"
        },
        "id": "5ziCK9speNdg",
        "outputId": "d29e132e-5289-4abe-aa7f-372dc337898f"
      },
      "execution_count": null,
      "outputs": [
        {
          "output_type": "stream",
          "name": "stdout",
          "text": [
            "Collecting docx2txt\n",
            "  Downloading docx2txt-0.8.tar.gz (2.8 kB)\n",
            "  Preparing metadata (setup.py) ... \u001b[?25l\u001b[?25hdone\n",
            "Building wheels for collected packages: docx2txt\n",
            "  Building wheel for docx2txt (setup.py) ... \u001b[?25l\u001b[?25hdone\n",
            "  Created wheel for docx2txt: filename=docx2txt-0.8-py3-none-any.whl size=3960 sha256=8e5acb9c5378ecc9ecf0a7ff7cf342bcaab1f4dac39e8ecfb221fba89fb7dbb0\n",
            "  Stored in directory: /root/.cache/pip/wheels/0f/0e/7a/3094a4ceefe657bff7e12dd9592a9d5b6487ef4338ace0afa6\n",
            "Successfully built docx2txt\n",
            "Installing collected packages: docx2txt\n",
            "Successfully installed docx2txt-0.8\n",
            "Requirement already satisfied: gensim in /usr/local/lib/python3.11/dist-packages (4.3.3)\n",
            "Requirement already satisfied: numpy<2.0,>=1.18.5 in /usr/local/lib/python3.11/dist-packages (from gensim) (1.26.4)\n",
            "Requirement already satisfied: scipy<1.14.0,>=1.7.0 in /usr/local/lib/python3.11/dist-packages (from gensim) (1.13.1)\n",
            "Requirement already satisfied: smart-open>=1.8.1 in /usr/local/lib/python3.11/dist-packages (from gensim) (7.1.0)\n",
            "Requirement already satisfied: wrapt in /usr/local/lib/python3.11/dist-packages (from smart-open>=1.8.1->gensim) (1.17.0)\n"
          ]
        }
      ]
    },
    {
      "cell_type": "code",
      "source": [
        "import gensim\n",
        "import docx2txt\n",
        "from gensim.utils import simple_preprocess\n",
        "from gensim.parsing.preprocessing import STOPWORDS\n",
        "from nltk.stem import WordNetLemmatizer, SnowballStemmer\n",
        "from nltk.stem.porter import *\n",
        "import numpy as np\n",
        "np.random.seed(2018)\n",
        "import nltk\n",
        "nltk.download('wordnet')\n",
        "\n",
        "stemmer = SnowballStemmer('english')\n",
        "\n",
        "def lemmatize_stemming(text):\n",
        "    return stemmer.stem(WordNetLemmatizer().lemmatize(text, pos='v'))\n",
        "\n",
        "def preprocess(text):\n",
        "    result = []\n",
        "    for token in gensim.utils.simple_preprocess(text):\n",
        "        if token not in gensim.parsing.preprocessing.STOPWORDS and len(token) > 3:\n",
        "            result.append(lemmatize_stemming(token))\n",
        "    return result\n",
        "\n",
        "context = docx2txt.process(\"CORPUS.docx\")\n",
        "processed_docs = preprocess(context)\n",
        "print(processed_docs)"
      ],
      "metadata": {
        "colab": {
          "base_uri": "https://localhost:8080/"
        },
        "id": "7PMuwjSQd3QT",
        "outputId": "0e2ecfbf-4f19-4a3b-f0b7-0ba05b70c2d7"
      },
      "execution_count": null,
      "outputs": [
        {
          "output_type": "stream",
          "name": "stderr",
          "text": [
            "[nltk_data] Downloading package wordnet to /root/nltk_data...\n",
            "[nltk_data]   Package wordnet is already up-to-date!\n"
          ]
        },
        {
          "output_type": "stream",
          "name": "stdout",
          "text": [
            "['human', 'communic', 'form', 'languag', 'text', 'speech', 'interact', 'comput', 'human', 'comput', 'need', 'understand', 'natur', 'languag', 'human', 'natur', 'languag', 'process', 'make', 'comput', 'learn', 'understand', 'analyz', 'manipul', 'interpret', 'natur', 'human', 'languag', 'stand', 'natur', 'languag', 'process', 'scienc', 'human', 'languag', 'linguist', 'artifici', 'intellig', 'process', 'natur', 'languag', 'requir', 'want', 'intellig', 'like', 'robot', 'perform', 'instruct', 'want', 'hear', 'decis', 'dialogu', 'base', 'clinic', 'expert', 'abil', 'machin', 'interpret', 'human', 'languag', 'core', 'applic', 'chatbot', 'email', 'classif', 'spam', 'filter', 'search', 'engin', 'grammar', 'checker', 'voic', 'assist', 'social', 'languag', 'translat', 'input', 'output', 'speech', 'write', 'text', 'compon', 'natur', 'languag', 'understand', 'natur', 'languag', 'generat', 'natur', 'languag', 'understand', 'involv', 'transform', 'human', 'languag', 'machin', 'readabl', 'format', 'help', 'machin', 'understand', 'analyz', 'human', 'languag', 'extract', 'text', 'larg', 'data', 'keyword', 'emot', 'relat', 'semant', 'natur', 'languag', 'generat', 'act', 'translat', 'convert', 'computer', 'data', 'natur', 'languag', 'represent', 'main', 'involv', 'text', 'plan', 'sentenc', 'plan', 'text', 'realize']\n"
          ]
        }
      ]
    },
    {
      "source": [
        "import nltk\n",
        "nltk.download('punkt_tab')\n",
        "\n",
        "def tokenize_text(paragraph):\n",
        "    sentences = nltk.sent_tokenize(paragraph)\n",
        "    words = [nltk.word_tokenize(sentence) for sentence in sentences]\n",
        "    return sentences, words\n",
        "\n",
        "context = docx2txt.process(\"CORPUS.docx\")\n",
        "sentences, words = tokenize_text(context)\n",
        "\n",
        "print(\"Sentences:\")\n",
        "for sentence in sentences:\n",
        "    print(sentence)\n",
        "\n",
        "print(\"\\nWords:\")\n",
        "for sentence_words in words:\n",
        "    print(sentence_words)"
      ],
      "cell_type": "code",
      "metadata": {
        "colab": {
          "base_uri": "https://localhost:8080/"
        },
        "id": "Mpq5awwug3N2",
        "outputId": "debb743a-12ed-4b0c-fd5e-de508e708740"
      },
      "execution_count": null,
      "outputs": [
        {
          "output_type": "stream",
          "name": "stdout",
          "text": [
            "Sentences:\n",
            "Humans communicate through some form of language either by text or speech.\n",
            "To make interactions between computers and humans, computers need to understand natural languages used by humans.\n",
            "Natural language processing is all about making computers learn, understand, analyze, manipulate and interpret natural(human) languages.\n",
            "NLP stands for Natural Language Processing, which is a part of Computer Science, Human languages or Linguistics, and Artificial Intelligence.\n",
            "Processing of Natural Language is required when you want an intelligent system like robot to perform as per your instructions, when you want to hear decision from a dialogue based clinical expert system, etc.\n",
            "The ability of machines to interpret human language is now at the core of many applications that we use every day - chatbots, Email classification and spam filters, search engines, grammar checkers, voice assistants, and social language translators.\n",
            "The input and output of an NLP system can be Speech or Written Text.\n",
            "There are two components of NLP, Natural Language Understanding (NLU)and Natural Language Generation (NLG).\n",
            "Natural Language Understanding (NLU) which involves transforming human language into a machine-readable format.\n",
            "It helps the machine to understand and analyze human language by extracting the text from large data such as keywords, emotions, relations, and semantics.\n",
            "Natural Language Generation (NLG) acts as a translator that converts the computerized data into natural language representation.\n",
            "It mainly involves Text planning, Sentence planning, and Text realization.\n",
            "\n",
            "Words:\n",
            "['Humans', 'communicate', 'through', 'some', 'form', 'of', 'language', 'either', 'by', 'text', 'or', 'speech', '.']\n",
            "['To', 'make', 'interactions', 'between', 'computers', 'and', 'humans', ',', 'computers', 'need', 'to', 'understand', 'natural', 'languages', 'used', 'by', 'humans', '.']\n",
            "['Natural', 'language', 'processing', 'is', 'all', 'about', 'making', 'computers', 'learn', ',', 'understand', ',', 'analyze', ',', 'manipulate', 'and', 'interpret', 'natural', '(', 'human', ')', 'languages', '.']\n",
            "['NLP', 'stands', 'for', 'Natural', 'Language', 'Processing', ',', 'which', 'is', 'a', 'part', 'of', 'Computer', 'Science', ',', 'Human', 'languages', 'or', 'Linguistics', ',', 'and', 'Artificial', 'Intelligence', '.']\n",
            "['Processing', 'of', 'Natural', 'Language', 'is', 'required', 'when', 'you', 'want', 'an', 'intelligent', 'system', 'like', 'robot', 'to', 'perform', 'as', 'per', 'your', 'instructions', ',', 'when', 'you', 'want', 'to', 'hear', 'decision', 'from', 'a', 'dialogue', 'based', 'clinical', 'expert', 'system', ',', 'etc', '.']\n",
            "['The', 'ability', 'of', 'machines', 'to', 'interpret', 'human', 'language', 'is', 'now', 'at', 'the', 'core', 'of', 'many', 'applications', 'that', 'we', 'use', 'every', 'day', '-', 'chatbots', ',', 'Email', 'classification', 'and', 'spam', 'filters', ',', 'search', 'engines', ',', 'grammar', 'checkers', ',', 'voice', 'assistants', ',', 'and', 'social', 'language', 'translators', '.']\n",
            "['The', 'input', 'and', 'output', 'of', 'an', 'NLP', 'system', 'can', 'be', 'Speech', 'or', 'Written', 'Text', '.']\n",
            "['There', 'are', 'two', 'components', 'of', 'NLP', ',', 'Natural', 'Language', 'Understanding', '(', 'NLU', ')', 'and', 'Natural', 'Language', 'Generation', '(', 'NLG', ')', '.']\n",
            "['Natural', 'Language', 'Understanding', '(', 'NLU', ')', 'which', 'involves', 'transforming', 'human', 'language', 'into', 'a', 'machine-readable', 'format', '.']\n",
            "['It', 'helps', 'the', 'machine', 'to', 'understand', 'and', 'analyze', 'human', 'language', 'by', 'extracting', 'the', 'text', 'from', 'large', 'data', 'such', 'as', 'keywords', ',', 'emotions', ',', 'relations', ',', 'and', 'semantics', '.']\n",
            "['Natural', 'Language', 'Generation', '(', 'NLG', ')', 'acts', 'as', 'a', 'translator', 'that', 'converts', 'the', 'computerized', 'data', 'into', 'natural', 'language', 'representation', '.']\n",
            "['It', 'mainly', 'involves', 'Text', 'planning', ',', 'Sentence', 'planning', ',', 'and', 'Text', 'realization', '.']\n"
          ]
        },
        {
          "output_type": "stream",
          "name": "stderr",
          "text": [
            "[nltk_data] Downloading package punkt_tab to /root/nltk_data...\n",
            "[nltk_data]   Unzipping tokenizers/punkt_tab.zip.\n"
          ]
        }
      ]
    },
    {
      "cell_type": "code",
      "source": [
        "import re\n",
        "text=\"Hello, World! Welcome to NLP 101.\"\n",
        "text = text.lower()\n",
        "text = re.sub(r\"[^a-zA-Z0-9 ]\", \"\", text)\n",
        "print(text)"
      ],
      "metadata": {
        "colab": {
          "base_uri": "https://localhost:8080/"
        },
        "id": "hduYGGAmgRlF",
        "outputId": "9c92d315-138c-451e-f4df-b8bc96a7dffc"
      },
      "execution_count": null,
      "outputs": [
        {
          "output_type": "stream",
          "name": "stdout",
          "text": [
            "hello world welcome to nlp 101\n"
          ]
        }
      ]
    },
    {
      "cell_type": "code",
      "source": [
        "import re\n",
        "text = 'Contact us at support@example.com and sales@example.org.'\n",
        "email_pattern = r'[\\w\\.-]+@[\\w\\.-]+\\.\\w+'\n",
        "emails = re.findall(email_pattern, text)\n",
        "print(emails)"
      ],
      "metadata": {
        "colab": {
          "base_uri": "https://localhost:8080/"
        },
        "id": "3xgibJ99hBKR",
        "outputId": "4d057d18-6d3b-4366-8c90-ce3b80fcc6d4"
      },
      "execution_count": null,
      "outputs": [
        {
          "output_type": "stream",
          "name": "stdout",
          "text": [
            "['support@example.com', 'sales@example.org']\n"
          ]
        }
      ]
    },
    {
      "cell_type": "code",
      "source": [
        "import requests\n",
        "from bs4 import BeautifulSoup\n",
        "url = 'https://example.com'\n",
        "try:\n",
        "    response = requests.get(url)\n",
        "    response.raise_for_status()\n",
        "    soup = BeautifulSoup(response.content, 'html.parser')\n",
        "    title = soup.title.string\n",
        "    print(f\"Title of the webpage: {title}\")\n",
        "except requests.exceptions.RequestException as e:\n",
        "    print(f\"Error fetching webpage: {e}\")\n",
        "except AttributeError:\n",
        "    print(\"Error: Could not find the title tag.\")\n",
        "    response.raise_for_status()\n",
        "    soup = BeautifulSoup(response.content, 'html.parser')\n",
        "    title = soup.title.string\n",
        "    print(f\"Title of the webpage: {title}\")\n",
        "except requests.exceptions.RequestException as e:\n",
        "    print(f\"Error fetching webpage: {e}\")\n",
        "except AttributeError:\n",
        "    print(\"Error: Could not find the title tag.\")"
      ],
      "metadata": {
        "colab": {
          "base_uri": "https://localhost:8080/"
        },
        "id": "T4JliAmZhMTh",
        "outputId": "af998d70-39e5-4ade-dcb4-7d3cfd6fcfc8"
      },
      "execution_count": null,
      "outputs": [
        {
          "output_type": "stream",
          "name": "stdout",
          "text": [
            "Title of the webpage: Example Domain\n"
          ]
        }
      ]
    },
    {
      "cell_type": "code",
      "source": [
        "from wordcloud import WordCloud, STOPWORDS\n",
        "import matplotlib.pyplot as plt\n",
        "text = \"data science machine learning artificial intelligence\"\n",
        "wordcloud = WordCloud(width=800, height=400, background_color='white', stopwords=STOPWORDS).generate(text)\n",
        "plt.figure(figsize=(10, 5))\n",
        "plt.imshow(wordcloud, interpolation='bilinear')\n",
        "plt.axis(\"off\")\n",
        "wordcloud.to_file(\"V_wordcloud_skill.png\")\n",
        "plt.show()"
      ],
      "metadata": {
        "colab": {
          "base_uri": "https://localhost:8080/",
          "height": 360
        },
        "id": "ZoF5SexahYGl",
        "outputId": "bb872254-cb56-4eae-acc6-d265e7606ce1"
      },
      "execution_count": null,
      "outputs": [
        {
          "output_type": "display_data",
          "data": {
            "text/plain": [
              "<Figure size 1000x500 with 1 Axes>"
            ],
            "image/png": "[encoded data removed]"
          },
          "metadata": {}
        }
      ]
    },
    {
      "cell_type": "code",
      "source": [
        "import spacy\n",
        "nlp = spacy.load(\"en_core_web_sm\")\n",
        "sentence = \"NLP is amazing and fun to learn.\"\n",
        "doc = nlp(sentence)\n",
        "for token in doc:\n",
        "    print(f\"{token.text}: {token.pos_}\")"
      ],
      "metadata": {
        "colab": {
          "base_uri": "https://localhost:8080/"
        },
        "id": "yxvG0GFwiCZ2",
        "outputId": "ca6c631d-ee81-4af5-dfcf-d9dcf2aff98e"
      },
      "execution_count": null,
      "outputs": [
        {
          "output_type": "stream",
          "name": "stderr",
          "text": [
            "/usr/local/lib/python3.11/dist-packages/spacy/util.py:1740: UserWarning: [W111] Jupyter notebook detected: if using `prefer_gpu()` or `require_gpu()`, include it in the same cell right before `spacy.load()` to ensure that the model is loaded on the correct device. More information: http://spacy.io/usage/v3#jupyter-notebook-gpu\n",
            "  warnings.warn(Warnings.W111)\n"
          ]
        },
        {
          "output_type": "stream",
          "name": "stdout",
          "text": [
            "NLP: PROPN\n",
            "is: AUX\n",
            "amazing: ADJ\n",
            "and: CCONJ\n",
            "fun: ADJ\n",
            "to: PART\n",
            "learn: VERB\n",
            ".: PUNCT\n"
          ]
        }
      ]
    },
    {
      "cell_type": "code",
      "source": [
        "import nltk\n",
        "from collections import Counter\n",
        "\n",
        "def most_common_words(filename):\n",
        "  \"\"\"\n",
        "  Loads a text file, tokenizes it using NLTK, and displays the 10 most common words.\n",
        "\n",
        "  Args:\n",
        "    filename: The name of the text file to process.\n",
        "  \"\"\"\n",
        "  try:\n",
        "    with open(filename, 'r') as f:\n",
        "      text = f.read()\n",
        "    tokens = nltk.word_tokenize(text)\n",
        "    words = [word.lower() for word in tokens if word.isalpha()]\n",
        "\n",
        "    word_counts = Counter(words)\n",
        "    most_common = word_counts.most_common(10)\n",
        "    print(\"10 Most Common Words:\")\n",
        "    for word, count in most_common:\n",
        "      print(f\"{word}: {count}\")\n",
        "\n",
        "  except FileNotFoundError:\n",
        "    print(f\"Error: File '{filename}' not found.\")\n",
        "\n",
        "if __name__ == \"__main__\":\n",
        "  filename = 'your_text_file.txt'\n",
        "  most_common_words(filename)"
      ],
      "metadata": {
        "id": "gAjhn3dIiIXr",
        "colab": {
          "base_uri": "https://localhost:8080/"
        },
        "outputId": "a5756197-a3c7-4160-91fa-f47032a9b3a8"
      },
      "execution_count": 1,
      "outputs": [
        {
          "output_type": "stream",
          "name": "stdout",
          "text": [
            "Error: File 'your_text_file.txt' not found.\n"
          ]
        }
      ]
    },
    {
      "cell_type": "code",
      "source": [
        "import nltk\n",
        "from collections import Counter\n",
        "\n",
        "def calculate_tf(filename):\n",
        "  \"\"\"\n",
        "  Loads a text file, tokenizes it, calculates the term frequency (TF) of each token,\n",
        "  and displays the top 5 most frequent tokens.\n",
        "\n",
        "  Args:\n",
        "    filename: The name of the text file to process.\n",
        "  \"\"\"\n",
        "  try:\n",
        "    with open(filename, 'r') as f:\n",
        "      text = f.read()\n",
        "    tokens = nltk.word_tokenize(text)\n",
        "    words = [word.lower() for word in tokens if word.isalpha()]\n",
        "    word_counts = Counter(words)\n",
        "    total_words = len(words)\n",
        "    tf_scores = {word: count / total_words for word, count in word_counts.items()}\n",
        "    top_tokens = sorted(tf_scores.items(), key=lambda x: x[1], reverse=True)[:5]\n",
        "    print(\"Top 5 Most Frequent Tokens (TF):\")\n",
        "    for word, tf in top_tokens:\n",
        "      print(f\"{word}: {tf}\")\n",
        "\n",
        "  except FileNotFoundError:\n",
        "    print(f\"Error: File '{filename}' not found.\")\n",
        "\n",
        "if __name__ == \"__main__\":\n",
        "  filename = 'your_text_file.txt'\n",
        "  calculate_tf(filename)"
      ],
      "metadata": {
        "colab": {
          "base_uri": "https://localhost:8080/"
        },
        "id": "MqFVyMhUUqiE",
        "outputId": "3502ed03-deb7-40a5-b50f-3cd67fd2b3fe"
      },
      "execution_count": 2,
      "outputs": [
        {
          "output_type": "stream",
          "name": "stdout",
          "text": [
            "Error: File 'your_text_file.txt' not found.\n"
          ]
        }
      ]
    },
    {
      "cell_type": "code",
      "source": [
        "from textblob import TextBlob\n",
        "\n",
        "def analyze_sentiment(text):\n",
        "  \"\"\"\n",
        "  Performs sentiment analysis on the given text using TextBlob.\n",
        "\n",
        "  Args:\n",
        "    text: The text to analyze.\n",
        "\n",
        "  Returns:\n",
        "    A string indicating the sentiment: \"positive\", \"negative\", or \"neutral\".\n",
        "  \"\"\"\n",
        "  blob = TextBlob(text)\n",
        "  sentiment_polarity = blob.sentiment.polarity\n",
        "\n",
        "  if sentiment_polarity > 0:\n",
        "    return \"positive\"\n",
        "  elif sentiment_polarity < 0:\n",
        "    return \"negative\"\n",
        "  else:\n",
        "    return \"neutral\"\n",
        "\n",
        "if __name__ == \"__main__\":\n",
        "  text = input(\"Enter the text: \")\n",
        "  sentiment = analyze_sentiment(text)\n",
        "  print(f\"Sentiment: {sentiment}\")"
      ],
      "metadata": {
        "colab": {
          "base_uri": "https://localhost:8080/"
        },
        "id": "oKived8-UyWE",
        "outputId": "3e29e5d9-402c-4bff-a699-c6e70e8a6baf"
      },
      "execution_count": 3,
      "outputs": [
        {
          "output_type": "stream",
          "name": "stdout",
          "text": [
            "Enter the text: Sad\n",
            "Sentiment: negative\n"
          ]
        }
      ]
    },
    {
      "cell_type": "code",
      "source": [
        "import spacy\n",
        "\n",
        "def perform_ner(text):\n",
        "  \"\"\"\n",
        "  Performs Named Entity Recognition (NER) on the given text using SpaCy.\n",
        "\n",
        "  Args:\n",
        "    text: The text to perform NER on.\n",
        "\n",
        "  Prints:\n",
        "    The entities and their types.\n",
        "  \"\"\"\n",
        "  nlp = spacy.load(\"en_core_web_sm\")\n",
        "  doc = nlp(text)\n",
        "\n",
        "  for ent in doc.ents:\n",
        "    print(f\"{ent.text}: {ent.label_}\")\n",
        "\n",
        "if __name__ == \"__main__\":\n",
        "  text = input(\"Enter the text: \")\n",
        "  perform_ner(text)"
      ],
      "metadata": {
        "colab": {
          "base_uri": "https://localhost:8080/"
        },
        "id": "KSwYv-TIU-f1",
        "outputId": "226c0a3e-3ab8-4bb6-d8aa-bd8cbb547fd9"
      },
      "execution_count": 4,
      "outputs": [
        {
          "name": "stdout",
          "output_type": "stream",
          "text": [
            "Enter the text: Named\n"
          ]
        }
      ]
    },
    {
      "cell_type": "code",
      "source": [
        "from sklearn.feature_extraction.text import TfidfVectorizer\n",
        "from sklearn.metrics.pairwise import cosine_similarity\n",
        "\n",
        "def cosine_sim(text1, text2):\n",
        "  \"\"\"\n",
        "  Calculates the cosine similarity between two strings.\n",
        "\n",
        "  Args:\n",
        "    text1: The first string.\n",
        "    text2: The second string.\n",
        "\n",
        "  Returns:\n",
        "    The cosine similarity score between the two strings.\n",
        "  \"\"\"\n",
        "  vectorizer = TfidfVectorizer(stop_words='english')\n",
        "  tfidf_matrix = vectorizer.fit_transform([text1, text2])\n",
        "  cosine_sim = cosine_similarity(tfidf_matrix[0], tfidf_matrix[1])\n",
        "  return cosine_sim[0][0]\n",
        "\n",
        "if __name__ == \"__main__\":\n",
        "  text1 = \"This is the first string.\"\n",
        "  text2 = \"This string is the second string.\"\n",
        "\n",
        "  similarity = cosine_sim(text1, text2)\n",
        "  print(f\"Cosine Similarity: {similarity}\")"
      ],
      "metadata": {
        "colab": {
          "base_uri": "https://localhost:8080/"
        },
        "id": "2L_ANUzhVOWK",
        "outputId": "c407d606-cc85-4f69-ccb8-4b729d92716e"
      },
      "execution_count": 5,
      "outputs": [
        {
          "output_type": "stream",
          "name": "stdout",
          "text": [
            "Cosine Similarity: 0.8181802073667197\n"
          ]
        }
      ]
    },
    {
      "cell_type": "code",
      "source": [],
      "metadata": {
        "id": "bEELZuxfVfdd"
      },
      "execution_count": null,
      "outputs": []
    }
  ]
}